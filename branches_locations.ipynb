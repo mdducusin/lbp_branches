{
 "cells": [
  {
   "cell_type": "code",
   "execution_count": 1,
   "id": "c9731485-ee1f-40de-bb26-fc7e28011ed7",
   "metadata": {},
   "outputs": [],
   "source": [
    "import json"
   ]
  },
  {
   "cell_type": "code",
   "execution_count": 2,
   "id": "ea487bff-7508-4e8e-a0cd-809edaa7943e",
   "metadata": {},
   "outputs": [],
   "source": [
    "#reading branch.js file\n",
    "\n",
    "with open('branch.json', 'r') as f:\n",
    "  data = json.load(f)"
   ]
  },
  {
   "cell_type": "code",
   "execution_count": null,
   "id": "cb270e86-3539-4e4d-9cad-5b914cacf9fb",
   "metadata": {},
   "outputs": [],
   "source": [
    "#testing out if it outputs correctly\n",
    "\n",
    "print(data)"
   ]
  }
 ],
 "metadata": {
  "kernelspec": {
   "display_name": "Python [conda env:landbankph]",
   "language": "python",
   "name": "conda-env-landbankph-py"
  },
  "language_info": {
   "codemirror_mode": {
    "name": "ipython",
    "version": 3
   },
   "file_extension": ".py",
   "mimetype": "text/x-python",
   "name": "python",
   "nbconvert_exporter": "python",
   "pygments_lexer": "ipython3",
   "version": "3.11.0"
  }
 },
 "nbformat": 4,
 "nbformat_minor": 5
}
